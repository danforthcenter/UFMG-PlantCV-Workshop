{
 "cells": [
  {
   "cell_type": "markdown",
   "id": "5f398b49",
   "metadata": {},
   "source": [
    "# Quinoa Seed Analysis Tutorial\n",
    "\n",
    "This is a full workflow that shows methods for counting and analyzing the shape and color of seeds. Similar methods should work for other types of seeds."
   ]
  },
  {
   "cell_type": "markdown",
   "id": "25268a22",
   "metadata": {},
   "source": [
    "# Section 1: Importing libraries and image"
   ]
  },
  {
   "cell_type": "code",
   "execution_count": null,
   "id": "a1a3d0dd-8a6f-4ef8-b7f8-e4867f42ea76",
   "metadata": {
    "id": "WBsA8wCgMpwF"
   },
   "outputs": [],
   "source": [
    "%pip install \"altair>=5\" ipympl  plantcv\n",
    "from google.colab import drive\n",
    "drive.mount('/content/gdrive')"
   ]
  },
  {
   "cell_type": "code",
   "execution_count": null,
   "id": "acc77c46",
   "metadata": {},
   "outputs": [],
   "source": [
    "# Set the notebook display method\n",
    "# inline = embedded plots, notebook = interactive plots\n",
    "%matplotlib inline"
   ]
  },
  {
   "cell_type": "code",
   "execution_count": null,
   "id": "65e727bd",
   "metadata": {},
   "outputs": [],
   "source": [
    "#Import libraries\n",
    "\n",
    "import os\n",
    "import argparse\n",
    "import matplotlib\n",
    "import cv2\n",
    "import numpy as np\n",
    "\n",
    "from plantcv import plantcv as pcv\n",
    "# Change working directory to point to Google Drive folder where notebook is stored.\n",
    "%cd '/content/gdrive/MyDrive/Colab Notebooks/20230828-UFMG-PlantCV-Workshop/Image-Analysis-using-PlantCV/Seed-Analysis'\n",
    "!ls"
   ]
  },
  {
   "cell_type": "markdown",
   "id": "2de8ecff",
   "metadata": {},
   "source": [
    "## Input variables\n",
    "\n",
    "The options class mimics the workflow command-line argument parser that is used for workflow parallelization. Using it while developing a workflow in Jupyter makes it easier to convert the workflow to a script later."
   ]
  },
  {
   "cell_type": "code",
   "execution_count": null,
   "id": "f00798e6",
   "metadata": {},
   "outputs": [],
   "source": [
    "# Input image into self.image (include file path if image is not in \n",
    "# the same folder as jupyter notebook)\n",
    "\n",
    "# Set self.debug to \"plot\" so that image outputs for each step is shown\n",
    "# once cell is run in jupyter notebooks (recommended)\n",
    "\n",
    "class options:\n",
    "    def __init__(self):        \n",
    "        self.image = \"\"\n",
    "        self.debug = \"plot\"\n",
    "        self.writeimg = False\n",
    "        self.result = \"seed_analysis_results\"\n",
    "        self.outdir = \".\""
   ]
  },
  {
   "cell_type": "code",
   "execution_count": null,
   "id": "a2b487cc",
   "metadata": {},
   "outputs": [],
   "source": [
    "# Get options\n",
    "args = options()\n",
    "\n",
    "# Set debug to the global parameter\n",
    "pcv.params.debug = args.debug\n",
    "\n",
    "# Set plotting size (default = 100)\n",
    "pcv.params.dpi = 100\n",
    "\n",
    "# Increase text size and thickness to make labels clearer\n",
    "# (size may need to be altered based on original image size)\n",
    "pcv.params.text_size = 10\n",
    "pcv.params.text_thickness = 20"
   ]
  },
  {
   "cell_type": "markdown",
   "id": "47b3179d",
   "metadata": {},
   "source": [
    "## Read the input image"
   ]
  },
  {
   "cell_type": "code",
   "execution_count": null,
   "id": "88c3dc7f",
   "metadata": {
    "scrolled": true
   },
   "outputs": [],
   "source": [
    "# Inputs:\n",
    "#   filename = Image file to be read in \n",
    "#   mode     = How to read in the image; either 'native' (default), 'rgb', 'gray', or 'csv'\n",
    "img, path, filename = pcv.readimage(filename=)"
   ]
  },
  {
   "cell_type": "markdown",
   "id": "1f7af70a",
   "metadata": {},
   "source": [
    "# Section 2: Segmenting plant from background and identifying plant object(s)\n",
    "\n",
    "* Requires successful import of image\n",
    "* See Threshold Tools Tutorial tutorial for other functions that can be used to create a binary mask"
   ]
  },
  {
   "cell_type": "markdown",
   "id": "baf530c4",
   "metadata": {},
   "source": [
    "## Crop image\n",
    "\n",
    "Cropping out aspects of the image that may interfere with the binary mask makes it easier to isolate plant material from background. This is also useful to save memory in these tutorials. "
   ]
  },
  {
   "cell_type": "code",
   "execution_count": null,
   "id": "c5907d84",
   "metadata": {
    "scrolled": true
   },
   "outputs": [],
   "source": [
    "# Inputs:\n",
    "#   x = top left x-coordinate\n",
    "#   y = top left y-coordinate\n",
    "#   h = height of final cropped image\n",
    "#   w = width of final cropped image\n",
    "img = pcv.crop(img=, \n",
    "               x=, \n",
    "               y=, \n",
    "               h=, \n",
    "               w=\n",
    "              )"
   ]
  },
  {
   "cell_type": "markdown",
   "id": "adjacent-agreement",
   "metadata": {},
   "source": [
    "## Visualize colorspaces\n",
    "\n",
    "The visualization tool converts the color image into HSV and LAB colorspaces and displays the grayscale channels in a matrix so that they can be visualized simultaneously. The idea is to select a channel that maximizes the difference between the plant and the background pixels."
   ]
  },
  {
   "cell_type": "code",
   "execution_count": null,
   "id": "returning-diabetes",
   "metadata": {},
   "outputs": [],
   "source": [
    "# Inputs:\n",
    "#   rbg_img      = original image\n",
    "#   original_img = whether to include the original RGB images in the display: True (default) or False\n",
    "colorspace_img = pcv.visualize.colorspaces(rgb_img=)"
   ]
  },
  {
   "cell_type": "markdown",
   "id": "8a0b9cc5",
   "metadata": {},
   "source": [
    "## Convert the color image to grayscale\n",
    "\n",
    "Converts the input color image into the LAB colorspace and returns the B (blue-yellow) channel as a grayscale image."
   ]
  },
  {
   "cell_type": "code",
   "execution_count": null,
   "id": "4436b613",
   "metadata": {
    "scrolled": true
   },
   "outputs": [],
   "source": [
    "# Inputs:\n",
    "#   rbg_img - original image\n",
    "#   channel - desired colorspace ('l', 'a', or 'b')\n",
    "b_img = pcv.rgb2gray_lab(rgb_img=, \n",
    "                         channel='')\n",
    "\n",
    "#Channel B is used because it provides the best separation of seeds from background."
   ]
  },
  {
   "cell_type": "markdown",
   "id": "affd8573",
   "metadata": {},
   "source": [
    "## Visualize the distribution of grayscale values\n",
    "\n",
    "A histogram can be used to visualize the distribution of values in an image. The histogram can aid in the selection of a threshold value.\n",
    "\n",
    "For this image, the large peak between 125-130 are from the darker background pixels. The smaller peak between 150-160 are the lighter seed pixels."
   ]
  },
  {
   "cell_type": "code",
   "execution_count": null,
   "id": "1afdeffb",
   "metadata": {
    "scrolled": true
   },
   "outputs": [],
   "source": [
    "# Inputs:\n",
    "#   img         = gray image in selected colorspace\n",
    "#   mask        = None (default), or mask\n",
    "#   bins        = 100 (default) or number of desired number of evenly spaced bins\n",
    "#   lower-bound = None (default) or minimum value on x-axis\n",
    "#   upper-bound = None (default) or maximum value on x-axis\n",
    "#   title       = None (default) or custom plot title\n",
    "#   hist_data   = False (default) or True (if frequency distribution data is desired)\n",
    "hist = pcv.visualize.histogram(img=)"
   ]
  },
  {
   "cell_type": "markdown",
   "id": "831d7c01",
   "metadata": {},
   "source": [
    "## Threshold the grayscale image\n",
    "Use a threshold function (binary in this case) to segment the grayscale image into plant (white) and background (black) pixels. Using the histogram above, a threshold point between 130-150 will segment the plant and background peaks. Because the seeds are the lighter pixels in this image, use object_type=\"light\" to do a traditional threshold."
   ]
  },
  {
   "cell_type": "code",
   "execution_count": null,
   "id": "b3065640",
   "metadata": {},
   "outputs": [],
   "source": [
    "# Inputs:\n",
    "#   gray_img    = black and white image created from selected colorspace\n",
    "#   threshold   = cutoff pixel intensity value (all pixels below value will become black, all above will become white)\n",
    "#   object_type = 'dark' or 'light' depending on if seeds are darker or lighter than background.\n",
    "b_thresh = pcv.threshold.binary(gray_img=, threshold=, object_type='') "
   ]
  },
  {
   "cell_type": "markdown",
   "id": "5530bcab",
   "metadata": {},
   "source": [
    "## Remove small background noise\n",
    "\n",
    "Thresholding mostly labeled plant pixels white but also labeled small regions of the background white. The fill function removes \"salt\" noise from the background by filtering white regions by size."
   ]
  },
  {
   "cell_type": "code",
   "execution_count": null,
   "id": "ae6b2810",
   "metadata": {},
   "outputs": [],
   "source": [
    "# Inputs:\n",
    "#   bin_img - binary mask image\n",
    "#   size - maximum size for objects that should be filled in as background (non-plant) pixels\n",
    "b_fill = pcv.fill(bin_img=, \n",
    "                  size=)\n",
    "#                     /\\\n",
    "#                     |\n",
    "#             change this value"
   ]
  },
  {
   "cell_type": "markdown",
   "id": "c98e85e9",
   "metadata": {},
   "source": [
    "# Section 3: Count and Analyze Seeds\n",
    "\n",
    "* Need a completed binary mask"
   ]
  },
  {
   "cell_type": "markdown",
   "id": "2ea12e9b",
   "metadata": {},
   "source": [
    "## Count seeds\n",
    "\n",
    "Count the number of seeds (simple objects) by accessing the number of values stores in the second item of the object list."
   ]
  },
  {
   "cell_type": "markdown",
   "id": "73576ccd",
   "metadata": {},
   "source": [
    "## Measure each seed\n",
    "\n",
    "1. Create labeled mask\n",
    "2. Analyze seed shape\n",
    "3. Analyze seed color"
   ]
  },
  {
   "cell_type": "code",
   "execution_count": null,
   "id": "e5558240",
   "metadata": {
    "scrolled": true
   },
   "outputs": [],
   "source": [
    "#Labeled mask is the mask which labels each individual seed to allow it to be measured.\n",
    "\n",
    "        #Inputs:\n",
    "        #Mask = mask created earlier in workflow\n",
    "\n",
    "labeled_mask, num = pcv.create_labels(mask=)"
   ]
  },
  {
   "cell_type": "code",
   "execution_count": null,
   "id": "ebd45e84-03b8-4d26-a96e-b0956030bc94",
   "metadata": {},
   "outputs": [],
   "source": [
    "#Find number of objects in image. Num=number of seeds captured in image.\n",
    "\n",
    "print (num)"
   ]
  },
  {
   "cell_type": "code",
   "execution_count": null,
   "id": "31a01605-df58-4d55-abb8-1b12a61503bc",
   "metadata": {},
   "outputs": [],
   "source": [
    "        # Analyze shape and size perameters of each seed\n",
    "        #\n",
    "        # Inputs:\n",
    "        #   img = rgb image\n",
    "        #   mask = mask which has labeled each individual seed in image\n",
    "        #   label = how many labels based on number of seeds in image. Num->all seeds in image\n",
    "shape_img = pcv.analyze.size(img=, \n",
    "                             labeled_mask=, \n",
    "                             n_labels=)"
   ]
  },
  {
   "cell_type": "code",
   "execution_count": null,
   "id": "f2fe9854-0040-4a89-9aa4-0b9dc5d6bc41",
   "metadata": {},
   "outputs": [],
   "source": [
    "        # Analyze color of each seed\n",
    "        #\n",
    "        # Inputs:\n",
    "        #   img = rgb image\n",
    "        #   labeled_mask = labeled mask\n",
    "        #   hist_plot_type = 'hsv', or None for no histogram plot\n",
    "        #   n_labels = 'num' \n",
    "\n",
    "analysis_image = pcv.analyze.color(rgb_img=, \n",
    "                                   labeled_mask=, \n",
    "                                   n_labels=, \n",
    "                                   colorspaces=''\n",
    "                                  )"
   ]
  },
  {
   "cell_type": "markdown",
   "id": "e2257018",
   "metadata": {},
   "source": [
    "## Visualize shape analysis of seeds\n",
    "\n",
    "Since debugging was turned off during the for loop, as plotting all analysis results significantly slows down the analysis, we can plot the final shape and color analyses to ensure that the results look correct."
   ]
  },
  {
   "cell_type": "code",
   "execution_count": null,
   "id": "67f384a6",
   "metadata": {},
   "outputs": [],
   "source": [
    "# Inputs:\n",
    "#   img = image for shape analysis\n",
    "pcv.plot_image(img=)"
   ]
  },
  {
   "cell_type": "code",
   "execution_count": null,
   "id": "53e1301d",
   "metadata": {
    "scrolled": true
   },
   "outputs": [],
   "source": [
    "# Inputs:\n",
    "#   img = image for color analysis\n",
    "pcv.plot_image(img=)"
   ]
  },
  {
   "cell_type": "markdown",
   "id": "47ea7821",
   "metadata": {},
   "source": [
    "## Save results\n",
    "\n",
    "During analysis, measurements are stored in the background in the outputs recorder.\n",
    "\n",
    "This example includes image analysis for 'area', 'convex_hull_area', 'solidity', 'perimeter', 'width', 'height', 'longest_path', 'center_of_mass, 'convex_hull_vertices', 'object_in_frame', 'ellipse_center', 'ellipse_major_axis', 'ellipse_minor_axis', 'ellipse_angle', 'ellipse_eccentricity' using anayze_object and color analysis using analyze_color.\n",
    "\n",
    "Here, results are saved to a CSV file for easy viewing, but when running workflows in parallel, save results as \"json\""
   ]
  },
  {
   "cell_type": "code",
   "execution_count": null,
   "id": "e077997d",
   "metadata": {},
   "outputs": [],
   "source": [
    "# Inputs:\n",
    "#   filename  = filename for saving results\n",
    "#   outformat = output file format: \"json\" (default) hierarchical format or \"csv\" tabular format\n",
    "pcv.outputs.save_results(filename=args.result, outformat=\"csv\")"
   ]
  },
  {
   "cell_type": "code",
   "execution_count": null,
   "id": "brilliant-bandwidth",
   "metadata": {},
   "outputs": [],
   "source": []
  }
 ],
 "metadata": {
  "kernelspec": {
   "display_name": "Python [conda env:miniconda3-plantcv]",
   "language": "python",
   "name": "conda-env-miniconda3-plantcv-py"
  },
  "language_info": {
   "codemirror_mode": {
    "name": "ipython",
    "version": 3
   },
   "file_extension": ".py",
   "mimetype": "text/x-python",
   "name": "python",
   "nbconvert_exporter": "python",
   "pygments_lexer": "ipython3",
   "version": "3.10.9"
  }
 },
 "nbformat": 4,
 "nbformat_minor": 5
}

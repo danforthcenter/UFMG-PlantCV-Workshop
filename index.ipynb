{
 "cells": [
  {
   "attachments": {},
   "cell_type": "markdown",
   "id": "deb79d20",
   "metadata": {},
   "source": [
    "# Template tutorial\n",
    "\n",
    "Description of tutorial"
   ]
  },
  {
   "cell_type": "code",
   "execution_count": 1,
   "id": "e1712db7",
   "metadata": {},
   "outputs": [],
   "source": [
    "%matplotlib widget\n",
    "from plantcv import plantcv as pcv"
   ]
  },
  {
   "cell_type": "code",
   "execution_count": null,
   "id": "1e7e9b03",
   "metadata": {},
   "outputs": [],
   "source": [
    "# Input/output options\n",
    "class options:\n",
    "    def __init__(self):\n",
    "        self.image = \"\"  # required\n",
    "        self.debug = \"plot\"  # None, \"print\" (save to file), or \"plot\" (display in notebook)\n",
    "        self.writeimg= False\n",
    "        self.result = \"\"  # required\n",
    "        self.outdir = \".\" # Store the output to the current directory \n",
    "\n",
    "# Get options\n",
    "args = options()"
   ]
  },
  {
   "cell_type": "code",
   "execution_count": null,
   "id": "223254b4",
   "metadata": {},
   "outputs": [],
   "source": [
    "# Set debug to the global parameter \n",
    "pcv.params.debug = args.debug\n",
    "# Change display settings\n",
    "pcv.params.dpi = 150\n",
    "pcv.params.text_size = 10"
   ]
  },
  {
   "cell_type": "code",
   "execution_count": null,
   "id": "964f1012",
   "metadata": {},
   "outputs": [],
   "source": []
  }
 ],
 "metadata": {
  "kernelspec": {
   "display_name": "Python [conda env:plantcv] *",
   "language": "python",
   "name": "conda-env-plantcv-py"
  },
  "language_info": {
   "codemirror_mode": {
    "name": "ipython",
    "version": 3
   },
   "file_extension": ".py",
   "mimetype": "text/x-python",
   "name": "python",
   "nbconvert_exporter": "python",
   "pygments_lexer": "ipython3",
   "version": "3.7.10"
  }
 },
 "nbformat": 4,
 "nbformat_minor": 5
}
